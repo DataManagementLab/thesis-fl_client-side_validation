{
 "cells": [
  {
   "cell_type": "code",
   "execution_count": 1,
   "metadata": {},
   "outputs": [],
   "source": [
    "import torch\n",
    "from cliva_fl.models.relu_mlp import ReLuMLP"
   ]
  },
  {
   "cell_type": "code",
   "execution_count": 2,
   "metadata": {},
   "outputs": [],
   "source": [
    "l = [784, 1024, 1024, 1024, 10]\n",
    "A = ReLuMLP(l)\n",
    "B = ReLuMLP(l)"
   ]
  },
  {
   "cell_type": "code",
   "execution_count": 3,
   "metadata": {},
   "outputs": [],
   "source": [
    "def tensors_close_custom(tensor1: torch.Tensor, tensor2: torch.Tensor, rtol=1e-07, atol=1e-06) -> bool:\n",
    "    return torch.lt(torch.abs(torch.sub(tensor1, tensor2)), atol + rtol * torch.abs(tensor2)).all().item()"
   ]
  },
  {
   "cell_type": "code",
   "execution_count": 4,
   "metadata": {},
   "outputs": [
    {
     "name": "stdout",
     "output_type": "stream",
     "text": [
      "6.17 ms ± 206 µs per loop (mean ± std. dev. of 7 runs, 100 loops each)\n"
     ]
    }
   ],
   "source": [
    "%%timeit\n",
    "for m1, m2 in zip(A.layers, B.layers):\n",
    "    if type(m1) in [torch.nn.Linear]:\n",
    "        tensors_close_custom(m2.weight, m1.weight)\n",
    "        tensors_close_custom(m2.bias, m1.bias)"
   ]
  },
  {
   "cell_type": "code",
   "execution_count": 5,
   "metadata": {},
   "outputs": [],
   "source": [
    "def tensors_close_torch(tensor1: torch.Tensor, tensor2: torch.Tensor, rtol=1e-07, atol=1e-06) -> bool:\n",
    "    return torch.allclose(tensor1, tensor2, rtol, atol)"
   ]
  },
  {
   "cell_type": "code",
   "execution_count": 6,
   "metadata": {},
   "outputs": [
    {
     "name": "stdout",
     "output_type": "stream",
     "text": [
      "10.8 ms ± 256 µs per loop (mean ± std. dev. of 7 runs, 100 loops each)\n"
     ]
    }
   ],
   "source": [
    "%%timeit\n",
    "for m1, m2 in zip(A.layers, B.layers):\n",
    "    if type(m1) in [torch.nn.Linear]:\n",
    "        tensors_close_torch(m2.weight, m1.weight)\n",
    "        tensors_close_torch(m2.bias, m1.bias)"
   ]
  },
  {
   "cell_type": "code",
   "execution_count": 7,
   "metadata": {},
   "outputs": [],
   "source": [
    "def tensors_close_rand(tensor1: torch.Tensor, tensor2: torch.Tensor, n_check=1, rtol=1e-07, atol=1e-06) -> bool:\n",
    "    R = torch.round(torch.rand(tensor1.shape[1], n_check))\n",
    "    tp1 = torch.matmul(tensor1, R)\n",
    "    tp2 = torch.matmul(tensor2, R)\n",
    "    return torch.allclose(tp1, tp2, rtol, atol)"
   ]
  },
  {
   "cell_type": "code",
   "execution_count": 8,
   "metadata": {},
   "outputs": [
    {
     "name": "stdout",
     "output_type": "stream",
     "text": [
      "1.41 ms ± 129 µs per loop (mean ± std. dev. of 7 runs, 1000 loops each)\n"
     ]
    }
   ],
   "source": [
    "%%timeit\n",
    "for m1, m2 in zip(A.layers, B.layers):\n",
    "    if type(m1) in [torch.nn.Linear]:\n",
    "        tensors_close_rand(m2.weight, m1.weight, n_check=9)\n",
    "        tensors_close_custom(m2.bias, m1.bias)"
   ]
  },
  {
   "cell_type": "code",
   "execution_count": 9,
   "metadata": {},
   "outputs": [],
   "source": [
    "def tensors_close_sum(tensor1: torch.Tensor, tensor2: torch.Tensor, n_check=1, rtol=1e-07, atol=1e-06) -> bool:\n",
    "    res = True\n",
    "    for i in range(len(tensor1.shape)):\n",
    "        res &= tensors_close_custom(tensor1.sum(i), tensor2.sum(i), rtol, atol)\n",
    "    return res"
   ]
  },
  {
   "cell_type": "markdown",
   "metadata": {},
   "source": [
    "```\n",
    "x 0 x 0\n",
    "0 0 0 0\n",
    "x 0 x 0\n",
    "```"
   ]
  },
  {
   "cell_type": "code",
   "execution_count": 10,
   "metadata": {},
   "outputs": [
    {
     "name": "stdout",
     "output_type": "stream",
     "text": [
      "1.57 ms ± 92.1 µs per loop (mean ± std. dev. of 7 runs, 1000 loops each)\n"
     ]
    }
   ],
   "source": [
    "%%timeit\n",
    "for m1, m2 in zip(A.layers, B.layers):\n",
    "    if type(m1) in [torch.nn.Linear]:\n",
    "        tensors_close_sum(m2.weight, m1.weight)\n",
    "        tensors_close_custom(m2.bias, m1.bias)"
   ]
  },
  {
   "cell_type": "code",
   "execution_count": 11,
   "metadata": {},
   "outputs": [],
   "source": [
    "for _ in range(100):\n",
    "    l = [784, 1024, 1024, 1024, 10]\n",
    "    A = ReLuMLP(l)\n",
    "    B = ReLuMLP(l)\n",
    "    for m1, m2 in zip(A.layers, B.layers):\n",
    "        if type(m1) in [torch.nn.Linear]:\n",
    "            assert tensors_close_sum(m2.weight, m1.weight) == tensors_close_torch(m2.weight, m1.weight)"
   ]
  },
  {
   "cell_type": "code",
   "execution_count": null,
   "metadata": {},
   "outputs": [],
   "source": []
  }
 ],
 "metadata": {
  "interpreter": {
   "hash": "38776479a62dae61a4ada1c357cbdffa7e50b2f9819ed77f49cd5f658276914f"
  },
  "kernelspec": {
   "display_name": "Python 3.8.10 64-bit ('venv': venv)",
   "language": "python",
   "name": "python3"
  },
  "language_info": {
   "codemirror_mode": {
    "name": "ipython",
    "version": 3
   },
   "file_extension": ".py",
   "mimetype": "text/x-python",
   "name": "python",
   "nbconvert_exporter": "python",
   "pygments_lexer": "ipython3",
   "version": "3.8.10"
  },
  "orig_nbformat": 4
 },
 "nbformat": 4,
 "nbformat_minor": 2
}
